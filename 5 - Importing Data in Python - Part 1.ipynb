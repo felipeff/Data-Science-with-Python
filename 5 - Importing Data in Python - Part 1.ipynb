{
 "cells": [
  {
   "cell_type": "markdown",
   "metadata": {},
   "source": [
    "# Importing Data in Python - Part 1\n"
   ]
  },
  {
   "cell_type": "markdown",
   "metadata": {},
   "source": [
    "## Reading a text file\n",
    "\n",
    "The simplest way to open a text file is by using the open() function."
   ]
  },
  {
   "cell_type": "code",
   "execution_count": 4,
   "metadata": {},
   "outputs": [
    {
     "name": "stdout",
     "output_type": "stream",
     "text": [
      "# Data-Science-with-Python\n",
      "Notebooks with notes and examples from the \"data scientist with python\" carrer track at datacamp.com\n",
      "\n"
     ]
    }
   ],
   "source": [
    "filename = 'README.md'\n",
    "\n",
    "file = open(filename, mode='r') # 'r' is to read\n",
    "text = file.read()\n",
    "file.close()  # do not forget to close the file\n",
    "print(text)"
   ]
  },
  {
   "cell_type": "markdown",
   "metadata": {},
   "source": [
    "You can use a context manager so you don't have to worry about closing the file. The file will be closed when the context is over"
   ]
  },
  {
   "cell_type": "code",
   "execution_count": 6,
   "metadata": {},
   "outputs": [
    {
     "name": "stdout",
     "output_type": "stream",
     "text": [
      "# Data-Science-with-Python\n",
      "Notebooks with notes and examples from the \"data scientist with python\" carrer track at datacamp.com\n",
      "\n"
     ]
    }
   ],
   "source": [
    "filename = 'README.md'\n",
    "\n",
    "with open(filename, mode='r') as file: # 'r' is to read\n",
    "    text = file.read()\n",
    "print(text)"
   ]
  },
  {
   "cell_type": "markdown",
   "metadata": {},
   "source": [
    "## Magic Commands\n",
    "\n",
    "https://ipython.readthedocs.io/en/stable/overview.html\n",
    "\n",
    "IPython has a bunch of magic commands, including the !. If you start a line with ! you have full system access to the shell. "
   ]
  },
  {
   "cell_type": "code",
   "execution_count": 1,
   "metadata": {},
   "outputs": [
    {
     "name": "stdout",
     "output_type": "stream",
     "text": [
      "1 - Intro to Python for Data Science.ipynb\n",
      "2 - Intermediate Python for Data Science.ipynb\n",
      "3 - Data Science Toolbox - Part 1.ipynb\n",
      "4 - Data Science Toolbox - Part 2.ipynb\n",
      "5 - Importing Data in Python - Part 1.ipynb\n",
      "README.md\n"
     ]
    }
   ],
   "source": [
    "! ls"
   ]
  },
  {
   "cell_type": "markdown",
   "metadata": {},
   "source": [
    "## Flat Files\n",
    "\n",
    "Basic text files containing records, like CSV files. By flat files we mean files that contains records (row of fields or attributes). \n",
    "Most of the time to import flat files we use NumPy (if all columns are numeric) or Pandas. "
   ]
  }
 ],
 "metadata": {
  "kernelspec": {
   "display_name": "Python 3",
   "language": "python",
   "name": "python3"
  },
  "language_info": {
   "codemirror_mode": {
    "name": "ipython",
    "version": 3
   },
   "file_extension": ".py",
   "mimetype": "text/x-python",
   "name": "python",
   "nbconvert_exporter": "python",
   "pygments_lexer": "ipython3",
   "version": "3.7.1"
  }
 },
 "nbformat": 4,
 "nbformat_minor": 2
}
