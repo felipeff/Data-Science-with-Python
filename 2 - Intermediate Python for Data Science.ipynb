{
 "cells": [
  {
   "cell_type": "markdown",
   "metadata": {},
   "source": [
    "# Intermediante Python for Data Science\n",
    "\n",
    "Level up your data science skills by creating visualizations using matplotlib and manipulating data frames with Pandas.\n",
    "\n",
    "## Basic plots with MatplotLib\n",
    "\n",
    "The main package to plot simple visualizations. By convention we usually import this package with the alias plt. Something peculiar is that when you call the function plot() it does not actually plot the image, because you may want to add more layers like labels, etc. To actually plot the visualization you have to call the function plt.show() \n",
    "\n",
    "plt.plot() = line chart\n",
    "plt.scatter() = scatter chart"
   ]
  },
  {
   "cell_type": "code",
   "execution_count": 1,
   "metadata": {},
   "outputs": [],
   "source": [
    "# Declaring variables\n",
    "year = [1950,  1951,\n",
    " 1952,\n",
    " 1953,\n",
    " 1954,\n",
    " 1955,\n",
    " 1956,\n",
    " 1957,\n",
    " 1958,\n",
    " 1959,\n",
    " 1960,\n",
    " 1961,\n",
    " 1962,\n",
    " 1963,\n",
    " 1964,\n",
    " 1965,\n",
    " 1966,\n",
    " 1967,\n",
    " 1968,\n",
    " 1969,\n",
    " 1970,\n",
    " 1971,\n",
    " 1972,\n",
    " 1973,\n",
    " 1974,\n",
    " 1975,\n",
    " 1976,\n",
    " 1977,\n",
    " 1978,\n",
    " 1979,\n",
    " 1980,\n",
    " 1981,\n",
    " 1982,\n",
    " 1983,\n",
    " 1984,\n",
    " 1985,\n",
    " 1986,\n",
    " 1987,\n",
    " 1988,\n",
    " 1989,\n",
    " 1990,\n",
    " 1991,\n",
    " 1992,\n",
    " 1993,\n",
    " 1994,\n",
    " 1995,\n",
    " 1996,\n",
    " 1997,\n",
    " 1998,\n",
    " 1999,\n",
    " 2000,\n",
    " 2001,\n",
    " 2002,\n",
    " 2003,\n",
    " 2004,\n",
    " 2005,\n",
    " 2006,\n",
    " 2007,\n",
    " 2008,\n",
    " 2009,\n",
    " 2010,\n",
    " 2011,\n",
    " 2012,\n",
    " 2013,\n",
    " 2014,\n",
    " 2015,\n",
    " 2016,\n",
    " 2017,\n",
    " 2018,\n",
    " 2019,\n",
    " 2020,\n",
    " 2021,\n",
    " 2022,\n",
    " 2023,\n",
    " 2024,\n",
    " 2025,\n",
    " 2026,\n",
    " 2027,\n",
    " 2028,\n",
    " 2029,\n",
    " 2030,\n",
    " 2031,\n",
    " 2032,\n",
    " 2033,\n",
    " 2034,\n",
    " 2035,\n",
    " 2036,\n",
    " 2037,\n",
    " 2038,\n",
    " 2039,\n",
    " 2040,\n",
    " 2041,\n",
    " 2042,\n",
    " 2043,\n",
    " 2044,\n",
    " 2045,\n",
    " 2046,\n",
    " 2047,\n",
    " 2048,\n",
    " 2049,\n",
    " 2050,\n",
    " 2051,\n",
    " 2052,\n",
    " 2053,\n",
    " 2054,\n",
    " 2055,\n",
    " 2056,\n",
    " 2057,\n",
    " 2058,\n",
    " 2059,\n",
    " 2060,\n",
    " 2061,\n",
    " 2062,\n",
    " 2063,\n",
    " 2064,\n",
    " 2065,\n",
    " 2066,\n",
    " 2067,\n",
    " 2068,\n",
    " 2069,\n",
    " 2070,\n",
    " 2071,\n",
    " 2072,\n",
    " 2073,\n",
    " 2074,\n",
    " 2075,\n",
    " 2076,\n",
    " 2077,\n",
    " 2078,\n",
    " 2079,\n",
    " 2080,\n",
    " 2081,\n",
    " 2082,\n",
    " 2083,\n",
    " 2084,\n",
    " 2085,\n",
    " 2086,\n",
    " 2087,\n",
    " 2088,\n",
    " 2089,\n",
    " 2090,\n",
    " 2091,\n",
    " 2092,\n",
    " 2093,\n",
    " 2094,\n",
    " 2095,\n",
    " 2096,\n",
    " 2097,\n",
    " 2098,\n",
    " 2099,\n",
    " 2100]\n",
    "\n",
    "pop = [2.53,\n",
    " 2.57,\n",
    " 2.62,\n",
    " 2.67,\n",
    " 2.71,\n",
    " 2.76,\n",
    " 2.81,\n",
    " 2.86,\n",
    " 2.92,\n",
    " 2.97,\n",
    " 3.03,\n",
    " 3.08,\n",
    " 3.14,\n",
    " 3.2,\n",
    " 3.26,\n",
    " 3.33,\n",
    " 3.4,\n",
    " 3.47,\n",
    " 3.54,\n",
    " 3.62,\n",
    " 3.69,\n",
    " 3.77,\n",
    " 3.84,\n",
    " 3.92,\n",
    " 4.0,\n",
    " 4.07,\n",
    " 4.15,\n",
    " 4.22,\n",
    " 4.3,\n",
    " 4.37,\n",
    " 4.45,\n",
    " 4.53,\n",
    " 4.61,\n",
    " 4.69,\n",
    " 4.78,\n",
    " 4.86,\n",
    " 4.95,\n",
    " 5.05,\n",
    " 5.14,\n",
    " 5.23,\n",
    " 5.32,\n",
    " 5.41,\n",
    " 5.49,\n",
    " 5.58,\n",
    " 5.66,\n",
    " 5.74,\n",
    " 5.82,\n",
    " 5.9,\n",
    " 5.98,\n",
    " 6.05,\n",
    " 6.13,\n",
    " 6.2,\n",
    " 6.28,\n",
    " 6.36,\n",
    " 6.44,\n",
    " 6.51,\n",
    " 6.59,\n",
    " 6.67,\n",
    " 6.75,\n",
    " 6.83,\n",
    " 6.92,\n",
    " 7.0,\n",
    " 7.08,\n",
    " 7.16,\n",
    " 7.24,\n",
    " 7.32,\n",
    " 7.4,\n",
    " 7.48,\n",
    " 7.56,\n",
    " 7.64,\n",
    " 7.72,\n",
    " 7.79,\n",
    " 7.87,\n",
    " 7.94,\n",
    " 8.01,\n",
    " 8.08,\n",
    " 8.15,\n",
    " 8.22,\n",
    " 8.29,\n",
    " 8.36,\n",
    " 8.42,\n",
    " 8.49,\n",
    " 8.56,\n",
    " 8.62,\n",
    " 8.68,\n",
    " 8.74,\n",
    " 8.8,\n",
    " 8.86,\n",
    " 8.92,\n",
    " 8.98,\n",
    " 9.04,\n",
    " 9.09,\n",
    " 9.15,\n",
    " 9.2,\n",
    " 9.26,\n",
    "9.31,\n",
    " 9.36,\n",
    " 9.41,\n",
    " 9.46,\n",
    " 9.5,\n",
    " 9.55,\n",
    " 9.6,\n",
    " 9.64,\n",
    " 9.68,\n",
    " 9.73,\n",
    " 9.77,\n",
    " 9.81,\n",
    " 9.85,\n",
    " 9.88,\n",
    " 9.92,\n",
    " 9.96,\n",
    " 9.99,\n",
    " 10.03,\n",
    " 10.06,\n",
    " 10.09,\n",
    " 10.13,\n",
    " 10.16,\n",
    " 10.19,\n",
    " 10.22,\n",
    " 10.25,\n",
    " 10.28,\n",
    " 10.31,\n",
    " 10.33,\n",
    " 10.36,\n",
    " 10.38,\n",
    " 10.41,\n",
    " 10.43,\n",
    " 10.46,\n",
    " 10.48,\n",
    " 10.5,\n",
    " 10.52,\n",
    " 10.55,\n",
    " 10.57,\n",
    " 10.59,\n",
    " 10.61,\n",
    " 10.63,\n",
    " 10.65,\n",
    " 10.66,\n",
    " 10.68,\n",
    " 10.7,\n",
    " 10.72,\n",
    " 10.73,\n",
    " 10.75,\n",
    " 10.77,\n",
    " 10.78,\n",
    " 10.79,\n",
    " 10.81,\n",
    " 10.82,\n",
    " 10.83,\n",
    " 10.84,\n",
    " 10.85]"
   ]
  },
  {
   "cell_type": "code",
   "execution_count": 2,
   "metadata": {},
   "outputs": [
    {
     "data": {
      "text/plain": [
       "<Figure size 640x480 with 1 Axes>"
      ]
     },
     "metadata": {},
     "output_type": "display_data"
    }
   ],
   "source": [
    "import matplotlib.pyplot as plt\n",
    "\n",
    "# Make a line plot: year on the x-axis, pop on the y-axis\n",
    "plt.plot(year,pop)\n",
    "\n",
    "# Display the plot with plt.show()\n",
    "plt.show()"
   ]
  },
  {
   "cell_type": "markdown",
   "metadata": {},
   "source": [
    "### Histograms\n",
    "\n",
    "Useful to explore a dataset and get idea about the distribution"
   ]
  },
  {
   "cell_type": "code",
   "execution_count": 3,
   "metadata": {},
   "outputs": [
    {
     "data": {
      "image/png": "[encoded data removed]",
      "text/plain": [
       "<Figure size 432x288 with 1 Axes>"
      ]
     },
     "metadata": {
      "needs_background": "light"
     },
     "output_type": "display_data"
    }
   ],
   "source": [
    "plt.hist(pop, bins = 10)\n",
    "plt.show()"
   ]
  },
  {
   "cell_type": "markdown",
   "metadata": {},
   "source": [
    "### Customizations\n",
    "\n",
    "We can do many customizations like change labels, colours, etc. The options available depend on the visualization type."
   ]
  },
  {
   "cell_type": "code",
   "execution_count": 4,
   "metadata": {},
   "outputs": [
    {
     "data": {
      "image/png": "[encoded data removed]",
      "text/plain": [
       "<Figure size 432x288 with 1 Axes>"
      ]
     },
     "metadata": {
      "needs_background": "light"
     },
     "output_type": "display_data"
    }
   ],
   "source": [
    "# Make a line plot: year on the x-axis, pop on the y-axis\n",
    "plt.plot(year,pop)\n",
    "\n",
    "plt.xlabel(\"Year\")\n",
    "plt.ylabel(\"Population\")\n",
    "plt.title(\"World Population Projections\")\n",
    "plt.yticks([0,2,4,6,8,10],\n",
    "          ['0', '2B', '4B', '6B', '8B', '10B']\n",
    "          )\n",
    "\n",
    "# Display the plot with plt.show()\n",
    "plt.show()"
   ]
  },
  {
   "cell_type": "markdown",
   "metadata": {},
   "source": [
    "## Dictionaries\n",
    "\n",
    "A Key-Value pair. To define a dictionary we use the { } notation. {\"albania\":2.77, \"algeria\":39.21}\n",
    "Then we can subset using the key population[\"albania\"]"
   ]
  },
  {
   "cell_type": "code",
   "execution_count": 5,
   "metadata": {},
   "outputs": [
    {
     "name": "stdout",
     "output_type": "stream",
     "text": [
      "dict_keys(['spain', 'france', 'germany', 'norway'])\n",
      "oslo\n"
     ]
    }
   ],
   "source": [
    "# Definition of dictionary\n",
    "europe = {'spain':'madrid', 'france':'paris', 'germany':'berlin', 'norway':'oslo' }\n",
    "\n",
    "# Print out the keys in europe\n",
    "print(europe.keys())\n",
    "\n",
    "# Print out value that belongs to key 'norway'\n",
    "print(europe[\"norway\"])"
   ]
  },
  {
   "cell_type": "markdown",
   "metadata": {},
   "source": [
    "Keys have to be unique. If you try to add a new key that already exists it will update the existing record.\n",
    "To add a new record you can just create a new key and specify a value.\n",
    "To remove a record from a dictionary you have to use the del() function, just like with the list.\n",
    "\n",
    "Dictionaries can contain key:value pairs where the values are again dictionaries."
   ]
  },
  {
   "cell_type": "code",
   "execution_count": 6,
   "metadata": {},
   "outputs": [
    {
     "name": "stdout",
     "output_type": "stream",
     "text": [
      "paris\n",
      "{'spain': {'capital': 'madrid', 'population': 46.77}, 'france': {'capital': 'paris', 'population': 66.03}, 'germany': {'capital': 'berlin', 'population': 80.62}, 'norway': {'capital': 'oslo', 'population': 5.084}, 'italy': {'capital': 'rome', 'population': 59.83}}\n"
     ]
    }
   ],
   "source": [
    "# Dictionary of dictionaries\n",
    "europe = { 'spain': { 'capital':'madrid', 'population':46.77 },\n",
    "           'france': { 'capital':'paris', 'population':66.03 },\n",
    "           'germany': { 'capital':'berlin', 'population':80.62 },\n",
    "           'norway': { 'capital':'oslo', 'population':5.084 } }\n",
    "\n",
    "\n",
    "# Print out the capital of France\n",
    "print(europe[\"france\"][\"capital\"])\n",
    "\n",
    "# Create sub-dictionary data\n",
    "data = {'capital':'rome', 'population':59.83 }\n",
    "\n",
    "# Add data to europe under key 'italy'\n",
    "europe['italy'] = data\n",
    "\n",
    "# Print europe\n",
    "print(europe)"
   ]
  },
  {
   "cell_type": "markdown",
   "metadata": {},
   "source": [
    "## Pandas!\n",
    "\n",
    "The 2D Numpy array is not the best way to represent tabular data. For start it can only contains one data type.\n",
    "To work with datasets we have the Pandas package, a high level data manipulation tool. \n",
    "One of the ways to build a pandas data frame is by using a dictionary, but most of the time we import the data from external sources like csv files. \n",
    "To import a file we also use pandas. (pd.read_csv()), pandas is very flexible and we can import data from multiple sources, including databases with pd.read_sql(). "
   ]
  },
  {
   "cell_type": "code",
   "execution_count": 7,
   "metadata": {},
   "outputs": [
    {
     "name": "stdout",
     "output_type": "stream",
     "text": [
      "         country  drives_right  cars_per_cap\n",
      "0  United States          True           809\n",
      "1      Australia         False           731\n",
      "2          Japan         False           588\n",
      "3          India         False            18\n",
      "4         Russia          True           200\n",
      "5        Morocco          True            70\n",
      "6          Egypt          True            45\n"
     ]
    }
   ],
   "source": [
    "# Pre-defined lists\n",
    "names = ['United States', 'Australia', 'Japan', 'India', 'Russia', 'Morocco', 'Egypt']\n",
    "dr =  [True, False, False, False, True, True, True]\n",
    "cpc = [809, 731, 588, 18, 200, 70, 45]\n",
    "\n",
    "# Import pandas as pd\n",
    "import pandas as pd\n",
    "\n",
    "# Create dictionary my_dict with three key:value pairs: my_dict\n",
    "my_dict = {'country':names,\n",
    "           'drives_right':dr,\n",
    "           'cars_per_cap':cpc\n",
    "}\n",
    "\n",
    "# Build a DataFrame cars from my_dict: cars\n",
    "cars = pd.DataFrame(my_dict)\n",
    "\n",
    "# Print cars\n",
    "print(cars)"
   ]
  },
  {
   "cell_type": "code",
   "execution_count": 8,
   "metadata": {},
   "outputs": [
    {
     "name": "stdout",
     "output_type": "stream",
     "text": [
      "           country  drives_right  cars_per_cap\n",
      "US   United States          True           809\n",
      "AUS      Australia         False           731\n",
      "JAP          Japan         False           588\n",
      "IN           India         False            18\n",
      "RU          Russia          True           200\n",
      "MOR        Morocco          True            70\n",
      "EG           Egypt          True            45\n"
     ]
    }
   ],
   "source": [
    "\n",
    "# Definition of row_labels\n",
    "row_labels = ['US', 'AUS', 'JAP', 'IN', 'RU', 'MOR', 'EG']\n",
    "\n",
    "# Specify row labels of cars\n",
    "cars.index = row_labels\n",
    "\n",
    "# Print cars again\n",
    "print(cars)"
   ]
  },
  {
   "cell_type": "markdown",
   "metadata": {},
   "source": [
    "### Index and select data\n",
    "\n",
    "- Square brackets\n",
    "- Advanced methods:\n",
    "    - loc\n",
    "    - iloc\n",
    "    \n",
    "No surprises for the square brackets approach. We can use the column labels to filter. The only difference is that if you use [] it returns a one dimensional array (pandas.core.series.Series). If you want to return a data frame you have to use [[]]. To select rows, we have to use the index approach, using numbers [1:4]\n",
    "\n",
    "Notice that we cannot use the same approach that we used for the Numpy arrays, using [rows, columns]. If we want to use this, we have to use the loc and iloc methods. \n",
    "loc = search based on labels\n",
    "iloc = search based on indexes."
   ]
  },
  {
   "cell_type": "code",
   "execution_count": 9,
   "metadata": {},
   "outputs": [
    {
     "name": "stdout",
     "output_type": "stream",
     "text": [
      "US     United States\n",
      "AUS        Australia\n",
      "JAP            Japan\n",
      "IN             India\n",
      "RU            Russia\n",
      "MOR          Morocco\n",
      "EG             Egypt\n",
      "Name: country, dtype: object\n"
     ]
    }
   ],
   "source": [
    "\n",
    "# Print out country column as Pandas Series\n",
    "print(cars['country'])\n"
   ]
  },
  {
   "cell_type": "code",
   "execution_count": 10,
   "metadata": {},
   "outputs": [
    {
     "name": "stdout",
     "output_type": "stream",
     "text": [
      "           country\n",
      "US   United States\n",
      "AUS      Australia\n",
      "JAP          Japan\n",
      "IN           India\n",
      "RU          Russia\n",
      "MOR        Morocco\n",
      "EG           Egypt\n"
     ]
    }
   ],
   "source": [
    "\n",
    "# Print out country column as Pandas DataFrame\n",
    "print(cars[['country']])\n"
   ]
  },
  {
   "cell_type": "code",
   "execution_count": 11,
   "metadata": {},
   "outputs": [
    {
     "name": "stdout",
     "output_type": "stream",
     "text": [
      "           country  drives_right\n",
      "US   United States          True\n",
      "AUS      Australia         False\n",
      "JAP          Japan         False\n",
      "IN           India         False\n",
      "RU          Russia          True\n",
      "MOR        Morocco          True\n",
      "EG           Egypt          True\n"
     ]
    }
   ],
   "source": [
    "\n",
    "# Print out DataFrame with country and drives_right columns\n",
    "print(cars[['country', 'drives_right']])"
   ]
  },
  {
   "cell_type": "code",
   "execution_count": 12,
   "metadata": {},
   "outputs": [
    {
     "name": "stdout",
     "output_type": "stream",
     "text": [
      "country         Japan\n",
      "drives_right    False\n",
      "cars_per_cap      588\n",
      "Name: JAP, dtype: object\n"
     ]
    }
   ],
   "source": [
    "# Print out observation for Japan\n",
    "print(cars.loc['JAP'])"
   ]
  },
  {
   "cell_type": "code",
   "execution_count": 13,
   "metadata": {},
   "outputs": [
    {
     "name": "stdout",
     "output_type": "stream",
     "text": [
      "       country  drives_right  cars_per_cap\n",
      "AUS  Australia         False           731\n",
      "EG       Egypt          True            45\n"
     ]
    }
   ],
   "source": [
    "# Print out observations for Australia and Egypt\n",
    "print(cars.loc[['AUS', 'EG']])"
   ]
  },
  {
   "cell_type": "code",
   "execution_count": 14,
   "metadata": {},
   "outputs": [
    {
     "name": "stdout",
     "output_type": "stream",
     "text": [
      "True\n"
     ]
    }
   ],
   "source": [
    "# Print out drives_right value of Morocco\n",
    "print(cars.loc['MOR', 'drives_right'])"
   ]
  },
  {
   "cell_type": "code",
   "execution_count": 15,
   "metadata": {},
   "outputs": [
    {
     "name": "stdout",
     "output_type": "stream",
     "text": [
      "     country  drives_right\n",
      "RU    Russia          True\n",
      "MOR  Morocco          True\n"
     ]
    }
   ],
   "source": [
    "\n",
    "# Print sub-DataFrame\n",
    "print(cars.loc[['RU', 'MOR'], ['country', 'drives_right']])"
   ]
  },
  {
   "cell_type": "markdown",
   "metadata": {},
   "source": [
    "## Boolean Operators\n",
    "\n",
    "In python the boolean comparison operators are defined with words instead of symbols: and, or, not.\n",
    "\n",
    "When working with numpy arrays, a regular comparison does not work. You have to use the functions logical_and(), logical_or() or logical_not().\n",
    "np.logical_and(myarray > 21, myarray < 25)\n"
   ]
  },
  {
   "cell_type": "markdown",
   "metadata": {},
   "source": [
    "## Control structures\n",
    "\n",
    "if\n",
    "elif\n",
    "else\n",
    "\n",
    "if condition :\n",
    "    expression\n",
    "else :\n",
    "    expression\n",
    "    \n",
    "Note the : in the end, in the same line. Also notice that you have to use tab to ident all the code that goes inside the if. If you do not ident then python will interpret the code to be outside the if statement.\n",
    "\n",
    "elif is the python code for else if.\n",
    "\n",
    "if condition :\n",
    "    expression\n",
    "elif condition : \n",
    "    expression\n",
    "else :\n",
    "    expression\n",
    "    \n"
   ]
  },
  {
   "cell_type": "code",
   "execution_count": 16,
   "metadata": {},
   "outputs": [
    {
     "name": "stdout",
     "output_type": "stream",
     "text": [
      "medium\n"
     ]
    }
   ],
   "source": [
    "area = 10.0\n",
    "if(area < 9) :\n",
    "    print(\"small\")\n",
    "elif(area < 12) :\n",
    "    print(\"medium\")\n",
    "else :\n",
    "    print(\"large\")"
   ]
  },
  {
   "cell_type": "markdown",
   "metadata": {},
   "source": [
    "## While Loop\n",
    "\n",
    "while condition :\n",
    "    expression"
   ]
  },
  {
   "cell_type": "code",
   "execution_count": 17,
   "metadata": {},
   "outputs": [
    {
     "name": "stdout",
     "output_type": "stream",
     "text": [
      "0\n",
      "1\n",
      "2\n",
      "3\n",
      "4\n"
     ]
    }
   ],
   "source": [
    "x = 0\n",
    "while x < 5:\n",
    "    print(x)\n",
    "    x = x + 1"
   ]
  },
  {
   "cell_type": "markdown",
   "metadata": {},
   "source": [
    "## For Loop\n",
    "\n",
    "for var in seq:\n",
    "    expression"
   ]
  },
  {
   "cell_type": "code",
   "execution_count": 18,
   "metadata": {},
   "outputs": [
    {
     "name": "stdout",
     "output_type": "stream",
     "text": [
      "1.73\n",
      "1.68\n",
      "1.71\n",
      "1.89\n"
     ]
    }
   ],
   "source": [
    "fam = [1.73, 1.68, 1.71, 1.89]\n",
    "for height in fam:\n",
    "    print(height)"
   ]
  },
  {
   "cell_type": "markdown",
   "metadata": {},
   "source": [
    "If you need to have access to the index of the list you can use enumerate"
   ]
  },
  {
   "cell_type": "code",
   "execution_count": 19,
   "metadata": {},
   "outputs": [
    {
     "name": "stdout",
     "output_type": "stream",
     "text": [
      "index: 0: 1.73\n",
      "index: 1: 1.68\n",
      "index: 2: 1.71\n",
      "index: 3: 1.89\n"
     ]
    }
   ],
   "source": [
    "for index, height in enumerate(fam):\n",
    "    print(\"index: \" + str(index) + \": \" + str(height))"
   ]
  },
  {
   "cell_type": "markdown",
   "metadata": {},
   "source": [
    "### Looping Data Structures\n",
    "\n",
    "To loop through numpy arrays or panda datasets you can use the foor loop. But the way you declare your foor loop is a little different. \n",
    "For a dictionary you have to use the **items()** method: for key, value in **myarray.items()**: \n",
    "For a 1D numpy array you can use the regular for x in npArray. For a 2D array this does not work, you have to use the function **nditer()**: **for val in np.nditer(mynpArray)**\n"
   ]
  },
  {
   "cell_type": "code",
   "execution_count": 20,
   "metadata": {},
   "outputs": [
    {
     "name": "stdout",
     "output_type": "stream",
     "text": [
      "the capital of spain is madrid\n",
      "the capital of france is paris\n",
      "the capital of germany is berlin\n",
      "the capital of norway is oslo\n",
      "the capital of italy is rome\n",
      "the capital of poland is warsaw\n",
      "the capital of austria is vienna\n"
     ]
    }
   ],
   "source": [
    "# Definition of dictionary\n",
    "europe = {'spain':'madrid', 'france':'paris', 'germany':'berlin',\n",
    "          'norway':'oslo', 'italy':'rome', 'poland':'warsaw', 'austria':'vienna' }\n",
    "          \n",
    "# Iterate over europe\n",
    "for key, value in europe.items():\n",
    "    print(\"the capital of \" + key + \" is \" + value)"
   ]
  },
  {
   "cell_type": "markdown",
   "metadata": {},
   "source": [
    "And how about Panda dataframe? \n",
    "For a pandas dataframe our sintax is a little different.\n",
    "\n",
    "**for label, row in dataframe.iterrows()**\n"
   ]
  },
  {
   "cell_type": "code",
   "execution_count": 21,
   "metadata": {},
   "outputs": [
    {
     "name": "stdout",
     "output_type": "stream",
     "text": [
      "US: 809\n",
      "AUS: 731\n",
      "JAP: 588\n",
      "IN: 18\n",
      "RU: 200\n",
      "MOR: 70\n",
      "EG: 45\n"
     ]
    }
   ],
   "source": [
    "# Iterate over rows of cars\n",
    "for lab, row in cars.iterrows() :\n",
    "    print(lab + ': ' + str(row['cars_per_cap']))"
   ]
  },
  {
   "cell_type": "code",
   "execution_count": 22,
   "metadata": {},
   "outputs": [
    {
     "data": {
      "image/png": "[encoded data removed]",
      "text/plain": [
       "<Figure size 432x288 with 1 Axes>"
      ]
     },
     "metadata": {
      "needs_background": "light"
     },
     "output_type": "display_data"
    }
   ],
   "source": [
    "\n",
    "import numpy as np\n",
    "import matplotlib.pyplot as plt\n",
    "\n",
    "# Simulate random walk 500 times\n",
    "all_walks = []\n",
    "for i in range(500) :\n",
    "    random_walk = [0]\n",
    "    for x in range(100) :\n",
    "        step = random_walk[-1]\n",
    "        dice = np.random.randint(1,7)\n",
    "        if dice <= 2:\n",
    "            step = max(0, step - 1)\n",
    "        elif dice <= 5:\n",
    "            step = step + 1\n",
    "        else:\n",
    "            step = step + np.random.randint(1,7)\n",
    "        if np.random.rand() <= 0.001 :\n",
    "            step = 0\n",
    "        random_walk.append(step)\n",
    "    all_walks.append(random_walk)\n",
    "\n",
    "# Create and plot np_aw_t\n",
    "np_aw_t = np.transpose(np.array(all_walks))\n",
    "\n",
    "# Select last row from np_aw_t: ends\n",
    "ends = np_aw_t[-1]\n",
    "\n",
    "# Plot histogram of ends, display plot\n",
    "plt.hist(ends)\n",
    "plt.show()"
   ]
  },
  {
   "cell_type": "code",
   "execution_count": null,
   "metadata": {},
   "outputs": [],
   "source": []
  }
 ],
 "metadata": {
  "kernelspec": {
   "display_name": "Python 3",
   "language": "python",
   "name": "python3"
  },
  "language_info": {
   "codemirror_mode": {
    "name": "ipython",
    "version": 3
   },
   "file_extension": ".py",
   "mimetype": "text/x-python",
   "name": "python",
   "nbconvert_exporter": "python",
   "pygments_lexer": "ipython3",
   "version": "3.7.1"
  }
 },
 "nbformat": 4,
 "nbformat_minor": 2
}
