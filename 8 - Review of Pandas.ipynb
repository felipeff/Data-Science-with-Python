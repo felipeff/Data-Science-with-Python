{
 "cells": [
  {
   "cell_type": "markdown",
   "metadata": {},
   "source": [
    "# Review of the Pandas Dataframe"
   ]
  },
  {
   "cell_type": "markdown",
   "metadata": {},
   "source": [
    "## Time Frames\n",
    "\n",
    "By default pandas read_csv will read datetime to string. We can use the parse_dates=True parameter to try to parse it to datetime. We can also specify which column we want to use as the index of the dataframe and set it to be the date column to help with the data exploration later on."
   ]
  },
  {
   "cell_type": "code",
   "execution_count": null,
   "metadata": {},
   "outputs": [],
   "source": [
    "pd.read_csv('file.csv', parse_dates=True, index_col='Date')"
   ]
  },
  {
   "cell_type": "markdown",
   "metadata": {},
   "source": [
    "Now because the date column is the index we can use the loc method."
   ]
  },
  {
   "cell_type": "code",
   "execution_count": null,
   "metadata": {},
   "outputs": [],
   "source": [
    "df.loc['2015-02-05']\n",
    "df.loc['2015-02-05 11:00']\n",
    "df.loc['February 5, 2015']\n",
    "df.loc['2015-02']\n",
    "df.loc['2015']\n",
    "df.loc['2015-02-16':'2015-02-20']"
   ]
  },
  {
   "cell_type": "markdown",
   "metadata": {},
   "source": [
    "## Resampling pandas time series\n",
    "\n",
    "We can resample the data by \"grouping\" the data. for instance, if I have one row per hour, I can resample to get 1 row per day. I can/need to specify an aggregation function to be used when resampling."
   ]
  },
  {
   "cell_type": "code",
   "execution_count": null,
   "metadata": {},
   "outputs": [],
   "source": [
    "# D = daily\n",
    "df.resample('D').sum()"
   ]
  },
  {
   "cell_type": "markdown",
   "metadata": {},
   "source": [
    "Most common resampling frequencies: \n",
    "\n",
    "min/T: minute\n",
    "H: hour\n",
    "D: Day\n",
    "B: Business day\n",
    "W: week\n",
    "M: month\n",
    "Q: Quarter\n",
    "A: year\n",
    "\n",
    "We can use multiple frequencies, for instance: 2W = 2-weeks"
   ]
  },
  {
   "cell_type": "markdown",
   "metadata": {},
   "source": [
    "## Working with timezones\n",
    "\n",
    "We can set a timezone to a datetime column and then convert between timezones"
   ]
  },
  {
   "cell_type": "code",
   "execution_count": null,
   "metadata": {},
   "outputs": [],
   "source": [
    "#Set timezone\n",
    "df['Date'].dt.tz_localize(' US/Central')\n",
    "\n",
    "#Convert\n",
    "df['Date'].dt.tz_convert(' US/Eastern')\n"
   ]
  },
  {
   "cell_type": "markdown",
   "metadata": {},
   "source": [
    "## String manipulation\n",
    "\n",
    "**.str.strip()**: Remove extra white spaces\n",
    "**.str.contains('')**: FInd all rows that contains a specific value\n",
    "\n",
    "Tip:\n",
    "Pad leading zeros to the Time column: df_dropped['Time']\n",
    "df_dropped['Time'] = df_dropped['Time'].apply(lambda x:'{:0>4}'.format(x))"
   ]
  }
 ],
 "metadata": {
  "kernelspec": {
   "display_name": "Python 3",
   "language": "python",
   "name": "python3"
  },
  "language_info": {
   "codemirror_mode": {
    "name": "ipython",
    "version": 3
   },
   "file_extension": ".py",
   "mimetype": "text/x-python",
   "name": "python",
   "nbconvert_exporter": "python",
   "pygments_lexer": "ipython3",
   "version": "3.7.1"
  }
 },
 "nbformat": 4,
 "nbformat_minor": 2
}
